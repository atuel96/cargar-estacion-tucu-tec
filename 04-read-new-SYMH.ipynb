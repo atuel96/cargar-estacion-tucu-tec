{
 "cells": [
  {
   "cell_type": "code",
   "execution_count": 2,
   "metadata": {},
   "outputs": [],
   "source": [
    "import numpy as np\n",
    "import pandas as pd\n",
    "import matplotlib.pyplot as plt\n",
    "\n",
    "from pathlib import Path"
   ]
  },
  {
   "cell_type": "code",
   "execution_count": 34,
   "metadata": {},
   "outputs": [
    {
     "name": "stdout",
     "output_type": "stream",
     "text": [
      "Identifier: ASYSYM N6E01\n",
      "Year: 17\n",
      "Month: 01\n",
      "Day: 01\n",
      "Component: D\n",
      "Hour UT: 00\n",
      "Name of Index: ASY\n",
      "Edition Number: WDCC2KYOTO\n",
      "Valores por Minuto: ['18', '17', '16', '14', '12', '10', '11', '11', '12', '14', '14', '14', '14', '15', '13', '13', '12', '12', '12', '13', '13', '14', '15', '14', '14', '15', '14', '13', '13', '13', '13', '13', '14', '13', '13', '13', '13', '12', '12', '12', '12', '13', '15', '13', '13', '13', '12', '12', '11', '10', '11', '12', '11', '11', '10', '10', '9', '10', '10', '10']\n",
      "Promedio Hora: 12\n"
     ]
    }
   ],
   "source": [
    "filepath = Path(\"sym/WWW_aeasy03697411.dat\")\n",
    "\n",
    "#columns = \n",
    "\n",
    "with filepath.open(\"r\") as f:\n",
    "    first_line = f.readline()\n",
    "    #print(first_line)\n",
    "    print(\"Identifier:\", first_line[:12])      # Identifier\n",
    "    print(\"Year:\", first_line[12:14])    # last two digits of Year\n",
    "    print(\"Month:\", first_line[14:16])    # Month '01' to '12\n",
    "    print(\"Day:\", first_line[16:18])    # Day of Month \n",
    "    print(\"Component:\", first_line[18:19]) # Component 'D' FOR D-comp. / 'H' FOR H-comp.\n",
    "    print(\"Hour UT:\", first_line[19:21]) # \tHour UT, '00' TO '23'\n",
    "    print(\"Name of Index:\",first_line[21:24]) # Name of index, 'ASY'/'SYM'\n",
    "    print(\"Edition Number:\", first_line[24:34])# Filler (edition number) value 'WDCC2KYOTO'\n",
    "\n",
    "    last_values = first_line[34:].split()\n",
    "    print(\"Valores por Minuto:\", last_values[:-1])\n",
    "    print(\"Promedio Hora:\", last_values[-1])"
   ]
  },
  {
   "cell_type": "code",
   "execution_count": null,
   "metadata": {},
   "outputs": [],
   "source": []
  }
 ],
 "metadata": {
  "kernelspec": {
   "display_name": "base",
   "language": "python",
   "name": "python3"
  },
  "language_info": {
   "codemirror_mode": {
    "name": "ipython",
    "version": 3
   },
   "file_extension": ".py",
   "mimetype": "text/x-python",
   "name": "python",
   "nbconvert_exporter": "python",
   "pygments_lexer": "ipython3",
   "version": "3.11.5"
  }
 },
 "nbformat": 4,
 "nbformat_minor": 2
}
